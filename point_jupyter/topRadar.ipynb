{
 "cells": [
  {
   "cell_type": "code",
   "execution_count": 10,
   "id": "c959f349",
   "metadata": {},
   "outputs": [],
   "source": [
    "f = open(\"../test_data/1117/2021-11-17 1522 run.txt\", 'r')\n",
    "\n",
    "\n",
    "data = []\n",
    "temp, x, y, z = [], [], [], []\n",
    "\n",
    "lines = f.readlines()\n",
    "for line in lines:\n",
    "    x_index = line.find(' x: ')\n",
    "    y_index = line.find('y: ')\n",
    "    z_index = line.find('z: ')\n",
    "    temp_index = line.find('doppler: ')\n",
    "    \n",
    "    if line.startswith('point_id: 0 ') :\n",
    "        if x != [] :\n",
    "            data.append([x, y, z])\n",
    "        temp, x, y, z = [], [], [], []\n",
    "    if x_index != -1 :\n",
    "        x.append(float(line[x_index + 3:y_index-1]))\n",
    "        y.append(float(line[y_index + 3:z_index-1]))\n",
    "        z.append(float(line[z_index + 3:temp_index-1]))\n",
    "\n",
    "f.close()"
   ]
  },
  {
   "cell_type": "code",
   "execution_count": 11,
   "id": "1c3ad92d",
   "metadata": {},
   "outputs": [],
   "source": [
    "import sklearn\n",
    "import pandas as pd\n",
    "import numpy as np\n",
    "\n",
    "from sklearn.cluster import DBSCAN\n",
    "import matplotlib.pyplot  as plt\n",
    "import seaborn as sns\n",
    "\n",
    "%matplotlib notebook\n",
    "from ipywidgets import *"
   ]
  },
  {
   "cell_type": "code",
   "execution_count": 14,
   "id": "58b2c766",
   "metadata": {},
   "outputs": [],
   "source": [
    "# create model and prediction\n",
    "pdData = pd.DataFrame({\"x\" : data[0][0], \"y\" : data[0][1], \"z\" : data[0][2]})\n",
    "\n",
    "model = DBSCAN(eps=0.5,min_samples=5)\n",
    "predict = pd.DataFrame(model.fit_predict(pdData))\n",
    "predict.columns=['predict']\n",
    "\n",
    "# concatenate labels to df as a new column\n",
    "r = pd.concat([pdData,predict],axis=1)"
   ]
  },
  {
   "cell_type": "code",
   "execution_count": 15,
   "id": "ed536d16",
   "metadata": {},
   "outputs": [
    {
     "name": "stdout",
     "output_type": "stream",
     "text": [
      "8\n"
     ]
    }
   ],
   "source": [
    "print(len(pdData))"
   ]
  },
  {
   "cell_type": "code",
   "execution_count": 13,
   "id": "c7cdafea",
   "metadata": {},
   "outputs": [
    {
     "data": {
      "application/vnd.jupyter.widget-view+json": {
       "model_id": "b2b300cc42aa4ffab20f28992ad80be4",
       "version_major": 2,
       "version_minor": 0
      },
      "text/plain": [
       "interactive(children=(IntSlider(value=300, description='i', max=900, min=-300), Output()), _dom_classes=('widg…"
      ]
     },
     "metadata": {},
     "output_type": "display_data"
    },
    {
     "data": {
      "text/plain": [
       "<function __main__.update(i=0)>"
      ]
     },
     "execution_count": 13,
     "metadata": {},
     "output_type": "execute_result"
    }
   ],
   "source": [
    "def update(i = 0) :\n",
    "    \n",
    "    ax = plt.axes(projection='3d')\n",
    "#     ax.view_init(120, 0)\n",
    "#     ax.set_xlim(0,6)\n",
    "#     ax.set_ylim(-3, 1.5)\n",
    "#     ax.set_zlim(-3,1.5)\n",
    "    ax.scatter3D(pdData[\"x\"], pdData[\"y\"], pdData[\"z\"], c=\"limegreen\");\n",
    "    \n",
    "interact(update, i = 300)"
   ]
  },
  {
   "cell_type": "code",
   "execution_count": null,
   "id": "861e0fc2",
   "metadata": {},
   "outputs": [],
   "source": []
  }
 ],
 "metadata": {
  "kernelspec": {
   "display_name": "Python 3",
   "language": "python",
   "name": "python3"
  },
  "language_info": {
   "codemirror_mode": {
    "name": "ipython",
    "version": 3
   },
   "file_extension": ".py",
   "mimetype": "text/x-python",
   "name": "python",
   "nbconvert_exporter": "python",
   "pygments_lexer": "ipython3",
   "version": "3.8.8"
  }
 },
 "nbformat": 4,
 "nbformat_minor": 5
}
