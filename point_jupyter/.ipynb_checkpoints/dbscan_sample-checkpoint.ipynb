{
 "cells": [
  {
   "cell_type": "code",
   "execution_count": 2,
   "id": "59b32600",
   "metadata": {},
   "outputs": [],
   "source": [
    "import sklearn\n",
    "import pandas as pd\n",
    "import numpy as np"
   ]
  },
  {
   "cell_type": "code",
   "execution_count": 3,
   "id": "8845193e",
   "metadata": {},
   "outputs": [
    {
     "name": "stdout",
     "output_type": "stream",
     "text": [
      "     x     y\n",
      "0  1.0  10.0\n",
      "1  1.1  10.1\n",
      "2  2.0   8.0\n",
      "3  2.1   7.9\n",
      "4  0.9   9.8\n",
      "5  1.0  10.1\n"
     ]
    }
   ],
   "source": [
    "x = [1, 1.1, 2, 2.1, 0.9, 1]\n",
    "y = [10, 10.1, 8, 7.9, 9.8, 10.1]\n",
    "\n",
    "data = pd.DataFrame({\"x\" : x, \"y\" : y})\n",
    "print(data)"
   ]
  },
  {
   "cell_type": "code",
   "execution_count": 4,
   "id": "1cfa5e27",
   "metadata": {},
   "outputs": [],
   "source": [
    "from sklearn.cluster import DBSCAN\n",
    "import matplotlib.pyplot  as plt\n",
    "import seaborn as sns"
   ]
  },
  {
   "cell_type": "code",
   "execution_count": 5,
   "id": "77cd0839",
   "metadata": {},
   "outputs": [
    {
     "name": "stdout",
     "output_type": "stream",
     "text": [
      "     x     y  predict\n",
      "0  1.0  10.0        0\n",
      "1  1.1  10.1        0\n",
      "2  2.0   8.0        1\n",
      "3  2.1   7.9        1\n",
      "4  0.9   9.8        0\n",
      "5  1.0  10.1        0\n"
     ]
    }
   ],
   "source": [
    "# create model and prediction\n",
    "model = DBSCAN(eps=0.5,min_samples=2)\n",
    "predict = pd.DataFrame(model.fit_predict(data))\n",
    "predict.columns=['predict']\n",
    "\n",
    "# concatenate labels to df as a new column\n",
    "r = pd.concat([data,predict],axis=1)\n",
    "\n",
    "print(r)"
   ]
  },
  {
   "cell_type": "code",
   "execution_count": 6,
   "id": "61ec0eb7",
   "metadata": {},
   "outputs": [
    {
     "data": {
      "image/png": "[encoded data removed]",
      "text/plain": [
       "<Figure size 402.875x360 with 6 Axes>"
      ]
     },
     "metadata": {
      "needs_background": "light"
     },
     "output_type": "display_data"
    }
   ],
   "source": [
    "sns.pairplot(r,hue='predict')\n",
    "plt.show()"
   ]
  },
  {
   "cell_type": "code",
   "execution_count": 11,
   "id": "163f8041",
   "metadata": {},
   "outputs": [
    {
     "name": "stdout",
     "output_type": "stream",
     "text": [
      "danger 1.0 10.0 2.0\n",
      "       2.05 7.95 -2.049999999999997\n"
     ]
    }
   ],
   "source": [
    "i = 0\n",
    "while True :\n",
    "    temp = r[r['predict'] == i]\n",
    "    if len(temp) != 0 :\n",
    "        # print(temp)\n",
    "        # 여기서 각 그룹별로 모델링 적용할 수도 있음\n",
    "        tempX = np.mean(temp[\"x\"])\n",
    "        tempY = np.mean(temp[\"y\"])\n",
    "        condition = 2 * tempX + 3 * tempY - 30\n",
    "        if (condition >= 0) :\n",
    "            print('danger', tempX, tempY, condition)\n",
    "            # api 전송\n",
    "        else :\n",
    "             print('      ', tempX, tempY, condition)\n",
    "        i += 1\n",
    "    else :\n",
    "        break"
   ]
  },
  {
   "cell_type": "code",
   "execution_count": null,
   "id": "0de13972",
   "metadata": {},
   "outputs": [],
   "source": []
  }
 ],
 "metadata": {
  "kernelspec": {
   "display_name": "Python 3",
   "language": "python",
   "name": "python3"
  },
  "language_info": {
   "codemirror_mode": {
    "name": "ipython",
    "version": 3
   },
   "file_extension": ".py",
   "mimetype": "text/x-python",
   "name": "python",
   "nbconvert_exporter": "python",
   "pygments_lexer": "ipython3",
   "version": "3.8.8"
  }
 },
 "nbformat": 4,
 "nbformat_minor": 5
}
