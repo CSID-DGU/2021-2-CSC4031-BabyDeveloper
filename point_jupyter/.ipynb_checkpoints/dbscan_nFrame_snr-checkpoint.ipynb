{
 "cells": [
  {
   "cell_type": "code",
   "execution_count": 1,
   "id": "0b5fa4d5",
   "metadata": {},
   "outputs": [],
   "source": [
    "import sklearn\n",
    "import pandas as pd\n",
    "import numpy as np\n",
    "\n",
    "from sklearn.cluster import DBSCAN\n",
    "import matplotlib.pyplot  as plt\n",
    "import seaborn as sns\n",
    "\n",
    "%matplotlib notebook\n",
    "from ipywidgets import *\n",
    "\n",
    "from matplotlib.lines import Line2D"
   ]
  },
  {
   "cell_type": "code",
   "execution_count": 10,
   "id": "902e5bc3",
   "metadata": {
    "scrolled": true
   },
   "outputs": [],
   "source": [
    "f = open(\"../test_data/1124/2021-11-24 1544.txt\", 'r')\n",
    "# f = open(\"../test_data/1117/2021-11-17-15-25-20.txt\", 'r')\n",
    "# f = open(\"C:/BabyDeveloper-main/test_data/2021-11-17-15-25-20.txt\", 'r')\n",
    "\n",
    "\n",
    "data = []\n",
    "frame = -1\n",
    "odd_b = False\n",
    "temp, x, y, z = [], [], [], []\n",
    "odd_number = 5\n",
    "\n",
    "snr = 160\n",
    "\n",
    "for i in range(odd_number):\n",
    "    x.append([])\n",
    "    y.append([])\n",
    "    z.append([])\n",
    "temp_x, temp_y, temp_z = [], [], []\n",
    "frame_num = -1\n",
    "\n",
    "lines = f.readlines()\n",
    "for line in lines:\n",
    "    x_index = line.find(' x: ')\n",
    "    y_index = line.find('y: ')\n",
    "    z_index = line.find('z: ')\n",
    "    snr_index = line.find('snr: ')\n",
    "    temp_index = line.find('doppler: ')\n",
    "    \n",
    "    if (line.startswith('point_id: 0 ')) and odd_b and frame >= odd_number - 1 : # line이 'point_id: 0'으로 시작하고, 3 frame 단위라면\n",
    "        for i in range(odd_number):\n",
    "            temp_x.append(x[i]) # 임시 x값\n",
    "            temp_y.append(y[i]) # 임시 y값\n",
    "            temp_z.append(z[i]) # 임시 z값\n",
    "        org_x = [item for sub_list in temp_x for item in sub_list] # x값 1차원화\n",
    "        org_y = [item for sub_list in temp_y for item in sub_list] # y값 1차원화\n",
    "        org_z = [item for sub_list in temp_z for item in sub_list] # z값 1차원화\n",
    "        data.append([org_x, org_y, org_z])\n",
    "        odd_b = False\n",
    "        frame_num = frame_num % odd_number - 1\n",
    "        x[frame_num] = []\n",
    "        y[frame_num] = []\n",
    "        z[frame_num] = []\n",
    "        temp_x, temp_y, temp_z = [], [], []\n",
    "    \n",
    "    elif line.startswith('point_id: 0 '):\n",
    "        frame += 1\n",
    "        frame_num += 1\n",
    "    \n",
    "    if x_index != -1 : # x의 index가 -1이 아니라면\n",
    "#         print(line[snr_index+4:snr + snr_index+5])\n",
    "        if float(line[snr_index+4:snr+snr_index+5]) < snr:\n",
    "            continue\n",
    "        else:\n",
    "            x[frame_num].append(float(line[x_index + 3:y_index-1]))\n",
    "            y[frame_num].append(float(line[y_index + 3:z_index-1]))\n",
    "            z[frame_num].append(float(line[z_index + 3:temp_index-1]))\n",
    "    \n",
    "    if frame % odd_number == odd_number - 1: # 정해둔 frame 단위라면\n",
    "        odd_b = True\n",
    "    \n",
    "f.close()"
   ]
  },
  {
   "cell_type": "code",
   "execution_count": 11,
   "id": "551a9cba",
   "metadata": {},
   "outputs": [],
   "source": [
    "import re, seaborn as sns\n",
    "import numpy as np\n",
    "\n",
    "from matplotlib import pyplot as plt\n",
    "from mpl_toolkits.mplot3d import Axes3D\n",
    "from matplotlib.colors import ListedColormap"
   ]
  },
  {
   "cell_type": "code",
   "execution_count": 14,
   "id": "0dac3f60",
   "metadata": {
    "scrolled": true
   },
   "outputs": [
    {
     "ename": "IndentationError",
     "evalue": "unexpected unindent (<ipython-input-14-f08bd22d5b31>, line 24)",
     "output_type": "error",
     "traceback": [
      "\u001b[1;36m  File \u001b[1;32m\"<ipython-input-14-f08bd22d5b31>\"\u001b[1;36m, line \u001b[1;32m24\u001b[0m\n\u001b[1;33m    def update(i=0) :\u001b[0m\n\u001b[1;37m                     ^\u001b[0m\n\u001b[1;31mIndentationError\u001b[0m\u001b[1;31m:\u001b[0m unexpected unindent\n"
     ]
    }
   ],
   "source": [
    "model = DBSCAN(eps=1.5,min_samples=8)\n",
    "\n",
    "updateData = []\n",
    "\n",
    "for i in range(len(data)) :\n",
    "    pdData = pd.DataFrame({\"x\" : data[i][0], \"y\" : data[i][1], \"z\" : data[i][2]})\n",
    "\n",
    "    # create model and prediction\n",
    "    predict = pd.DataFrame(model.fit_predict(pdData))\n",
    "    predict.columns=['predict']\n",
    "\n",
    "    # concatenate labels to df as a new column\n",
    "    r = pd.concat([pdData,predict],axis=1)\n",
    "\n",
    "    updateData.append(r)\n",
    "\n",
    "    fig = plt.figure()\n",
    "    ax = Axes3D(fig)\n",
    "\n",
    "    # cmap = ListedColormap(sns.color_palette(\"husl\", 256).as_hex())\n",
    "    cmap = plt.cm.Spectral\n",
    "        \n",
    "\n",
    "def update(i=0) :\n",
    "    ax = plt.axes(projection='3d')\n",
    "#     ax.view_init(90, 0)\n",
    "    ax.view_init(30, 120)\n",
    "    ax.set_xlim(10, -10)\n",
    "    ax.set_ylim(15, -10)\n",
    "    ax.set_zlim(-2, 15)\n",
    "    \n",
    "    sc = ax.scatter(updateData[i][\"x\"], updateData[i][\"y\"], updateData[i][\"z\"], c=updateData[i][\"predict\"], marker='o', cmap=cmap, alpha=1)\n",
    "    ax.set_xlabel('X')\n",
    "    ax.set_ylabel('Y')\n",
    "    ax.set_zlabel('Z')\n",
    "\n",
    "    # legend\n",
    "    plt.legend(*sc.legend_elements(), bbox_to_anchor=(1.05, 1), loc=2)\n",
    "    \n",
    "    \n",
    "     \n",
    "interact(update, i = len(data) // 3)"
   ]
  },
  {
   "cell_type": "code",
   "execution_count": null,
   "id": "a8e6a4d9",
   "metadata": {},
   "outputs": [],
   "source": []
  }
 ],
 "metadata": {
  "kernelspec": {
   "display_name": "Python 3",
   "language": "python",
   "name": "python3"
  },
  "language_info": {
   "codemirror_mode": {
    "name": "ipython",
    "version": 3
   },
   "file_extension": ".py",
   "mimetype": "text/x-python",
   "name": "python",
   "nbconvert_exporter": "python",
   "pygments_lexer": "ipython3",
   "version": "3.8.8"
  }
 },
 "nbformat": 4,
 "nbformat_minor": 5
}
